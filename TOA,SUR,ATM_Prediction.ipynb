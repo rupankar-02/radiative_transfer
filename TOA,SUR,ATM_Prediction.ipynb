{
 "cells": [
  {
   "cell_type": "code",
   "execution_count": null,
   "id": "075ca023",
   "metadata": {},
   "outputs": [],
   "source": [
    "import pandas as pd\n",
    "data=pd.read_csv('data.csv',header=None)\n",
    "data.columns=['AOD','ALPHA','SSA','ASY','TOA','SUR','ATM']\n"
   ]
  },
  {
   "cell_type": "code",
   "execution_count": null,
   "id": "8139f8d9",
   "metadata": {},
   "outputs": [],
   "source": [
    "from sklearn.model_selection import train_test_split\n",
    "from sklearn.preprocessing import MinMaxScaler\n",
    "print(data.isnull.sum())\n",
    "data=data.sample(frac=1,random_state=42).reset_index(drop=True)\n",
    "\n",
    "X=data.iloc[:,:4]\n",
    "y=data.iloc[:,4:]\n",
    "\n",
    "X_train,X_test,y_train,y_test=train_test_split(X_normalized,y,test_size=0.2,random_state=42)"
   ]
  },
  {
   "cell_type": "code",
   "execution_count": null,
   "id": "dbf7f501",
   "metadata": {},
   "outputs": [],
   "source": [
    "import matplotlib.pyplot as plt\n",
    "import seaborn as sns\n",
    "sns.pairplot(data)\n",
    "plt.show()\n",
    "print(data.describe)"
   ]
  },
  {
   "cell_type": "code",
   "execution_count": null,
   "id": "c1216683",
   "metadata": {},
   "outputs": [],
   "source": [
    "from sklearn.linear_model import LinearRegression\n",
    "from sklearn.metrics import mean_square_error\n",
    "\n",
    "linear_model=LinearRegression()\n",
    "linear_model.fit(X_train,y_train)\n",
    "\n",
    "y_pred=linear_model.predict(X_test)\n",
    "mse=mean_squared_error(y_test,y_pred)\n",
    "print(f'linear regression model MSE:{mse})\n"
   ]
  },
  {
   "cell_type": "code",
   "execution_count": 2,
   "id": "047f2687",
   "metadata": {},
   "outputs": [],
   "source": [
    "from sklearn.ensemble import RandomForestRegressor,GradientBoostingRegressor\n",
    "from sklearn.svm import SVR\n"
   ]
  },
  {
   "cell_type": "code",
   "execution_count": null,
   "id": "2ef27877",
   "metadata": {},
   "outputs": [],
   "source": [
    "#randomforest regressor model\n",
    "rf_model=RandomForestRegressor()\n",
    "rf_model.fit(X_train,y_train)\n",
    "rf_pred=rf_model.predict(X_test)\n",
    "rf_mse=mean_squared_error(y_test,rf_pred)\n",
    "print(f'random forest mse:{rf_mse}')\n",
    "\n"
   ]
  },
  {
   "cell_type": "code",
   "execution_count": null,
   "id": "6db16215",
   "metadata": {},
   "outputs": [],
   "source": [
    "#gradient boosting regressor model\n",
    "gb_model=GradientBoostRegressor()\n",
    "gb_model.fit(X_train,y_train)\n",
    "gb_pred=gb_model.predict(X_test)\n",
    "gb_mse=mean_squared_error(y_test,gb_pred)\n",
    "print(f'gradient boosting mse:{gb_mse})"
   ]
  },
  {
   "cell_type": "code",
   "execution_count": null,
   "id": "228fd9da",
   "metadata": {},
   "outputs": [],
   "source": [
    "#support vector regressor\n",
    "svr_model=SVR()\n",
    "svr_model.fit(X_train,y_train)\n",
    "svr_pred=mean_squared_error(y_test,svr_pred)\n",
    "svr_mse=mean_squared_error(y_test,svr_pred)\n",
    "print(f'support vector regressor MSE:{svr_mse}')\n"
   ]
  },
  {
   "cell_type": "code",
   "execution_count": null,
   "id": "df79f551",
   "metadata": {},
   "outputs": [],
   "source": [
    "#model evaluation \n",
    "import numpy as np\n",
    "models=['linearregression','randomforest','gradient_boosting','svr']\n",
    "mses=[mse,rf_mse,gb_mse,svr_mse]\n",
    "\n",
    "best_model_index=np.argmin(mses)\n",
    "print(f'best model:{models[best_model-index]} with mse:{mses[best_model_index]}'')"
   ]
  },
  {
   "cell_type": "code",
   "execution_count": null,
   "id": "0dfafe6e",
   "metadata": {},
   "outputs": [],
   "source": [
    "#rnadom forest hyperparametertuning\n",
    "param_grid_rf={'n_estimators':[50,100,200],'max_depth':[10,20,30,None],'min_samples_split':[2,5,10],'min_samples_leaf':[1,2,4]}\n",
    "rf_model=RandomForestRegressor()\n",
    "\n",
    "grid_search_rf=GridSearchCV(estimator=rf_model,param_grid=param_grid_rf,cv=3,n_jobs=-1,verbose=2)\n",
    "grid_search_rf.fit(X_train,y_train)\n",
    "best_rf_model=grid_search_rf.best_estimator"
   ]
  },
  {
   "cell_type": "code",
   "execution_count": null,
   "id": "0f11f046",
   "metadata": {},
   "outputs": [],
   "source": [
    "#rf model evaluation \n",
    "rf_train_pred=best_rf_model.predict(X_train)\n",
    "rf_test_pred=best_rf_model.predict(X_test)\n",
    "\n",
    "rf_train_r2=r2_score(y_train,rf_train_pred)\n",
    "rf_test_r2=r2_score(y_test,rf_test_pred)\n",
    "\n",
    "print(f'random forest model train r2:{rf_train_r2}')\n",
    "print(f'random forest test r2:{rf_test_r2}')"
   ]
  }
 ],
 "metadata": {
  "kernelspec": {
   "display_name": "Python 3 (ipykernel)",
   "language": "python",
   "name": "python3"
  },
  "language_info": {
   "codemirror_mode": {
    "name": "ipython",
    "version": 3
   },
   "file_extension": ".py",
   "mimetype": "text/x-python",
   "name": "python",
   "nbconvert_exporter": "python",
   "pygments_lexer": "ipython3",
   "version": "3.11.4"
  }
 },
 "nbformat": 4,
 "nbformat_minor": 5
}
